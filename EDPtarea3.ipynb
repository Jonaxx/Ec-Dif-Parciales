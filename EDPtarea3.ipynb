{
 "metadata": {
  "name": "",
  "signature": "sha256:9417637f7f42ae2f03912d279036806bddf301ef5b66b893fec6e17b2530198e"
 },
 "nbformat": 3,
 "nbformat_minor": 0,
 "worksheets": [
  {
   "cells": [
    {
     "cell_type": "heading",
     "level": 1,
     "metadata": {},
     "source": [
      "Ecuaciones Diferenciales Parciales Tarea 3"
     ]
    },
    {
     "cell_type": "markdown",
     "metadata": {},
     "source": [
      "Primer creamos el c\u00f3digo para el programa."
     ]
    },
    {
     "cell_type": "code",
     "collapsed": false,
     "input": [
      "from __future__ import division\n",
      "import numpy as np\n",
      "import matplotlib.pyplot as plt\n",
      "\n",
      "Nx = 160\n",
      "Nt = 9\n",
      "Nk = 19\n",
      "x = np.linspace(-4, 4, Nx+1)\n",
      "t = np.linspace(.1, 1, Nt+1)\n",
      "k = np.linspace(.1, 2, Nk+1)\n",
      "\n",
      "def S(x, t, k):\n",
      "    return np.exp(-x**2/(4*k*t))/np.sqrt(4*np.pi*k*t)\n",
      "\n",
      "def inc_a(t, x, S):\n",
      "    labela = []\n",
      "    for i in t:\n",
      "        plt.plot(x, S(x, i, 1))\n",
      "        labela.append(r'$t = %s$' %i)\n",
      "    plt.xlabel('$x$')\n",
      "    plt.ylabel('$S$')\n",
      "    plt.legend(labela, ncol=5, loc='upper center', \n",
      "           bbox_to_anchor=[0.5, 1.1], \n",
      "           columnspacing=1.0, labelspacing=0.0,\n",
      "           handletextpad=0.0, handlelength=1.5,\n",
      "           fancybox=True, shadow=True)\n",
      "    plt.show()\n",
      "\n",
      "def inc_b(k, x, S):\n",
      "    labelb = []\n",
      "    for i in k:\n",
      "        plt.plot(x, S(x, 1, i))\n",
      "        labelb.append(r'$k = %s$' %i)\n",
      "    plt.xlabel('$x$')\n",
      "    plt.ylabel('$S$')\n",
      "    plt.legend(labelb, ncol=5, loc='upper center', \n",
      "           bbox_to_anchor=[0.5, 1.1], \n",
      "           columnspacing=1.0, labelspacing=0.0,\n",
      "           handletextpad=0.0, handlelength=1.5,\n",
      "           fancybox=True, shadow=True)\n",
      "    plt.show()\n",
      "\n",
      "def inc_c(a, b, c, x, t, k, S):\n",
      "    u = a*S(x-2, t, k) + b*S(x-1, t, k) + c*S(x+1, t, k)\n",
      "    plt.xlabel('$x$')\n",
      "    plt.ylabel('$S$')\n",
      "    plt.plot(x, u)\n",
      "    plt.title(u'Combinaci\u00f3n lineal de $S$')\n",
      "    plt.show()"
     ],
     "language": "python",
     "metadata": {
      "slideshow": {
       "slide_type": "notes"
      }
     },
     "outputs": [],
     "prompt_number": 3
    },
    {
     "cell_type": "markdown",
     "metadata": {},
     "source": [
      "Para el inciso a) usamos la funci\u00f3n $\\verb+inc_a(t, x, S)+$ donde $\\verb+t, x+$ son vectores previamente definidos y $\\verb+S = S(x, t, k)+$ es la soluci\u00f3n."
     ]
    },
    {
     "cell_type": "code",
     "collapsed": false,
     "input": [
      "inc_a(t, x, S)"
     ],
     "language": "python",
     "metadata": {},
     "outputs": []
    },
    {
     "cell_type": "markdown",
     "metadata": {},
     "source": [
      "En la gr\u00e1fica que se produjo podemos notar que si $t\\rightarrow{0}$, entonces la gr\u00e1fica se vuelve m\u00e1s alta y delgada, mientras que si $t$ crece, esta se vuelve m\u00e1s baja y ancha. Ahora veamos como se comporta la gr\u00e1fica si varia $k$ y $t$ queda fija, para esto llamemos a la funci\u00f3n $\\verb+inc_b(k, x, S)+$."
     ]
    },
    {
     "cell_type": "code",
     "collapsed": false,
     "input": [
      "inc_b(k, x, S)"
     ],
     "language": "python",
     "metadata": {},
     "outputs": []
    },
    {
     "cell_type": "markdown",
     "metadata": {},
     "source": [
      "En el inciso 3 se defini\u00f3 la variable $u$, que contiene la combinaci\u00f3n lineal, es decir $$ u = aS(x-2, t, k) + bS(x-1, t, k) + cS(x+1, t, k) $$. La funci\u00f3n\n",
      "que se encarga de esto es $\\verb+inc_c(a, b, c, x, t, k, S)+$. Donde $a, b, c$ son los coeficientes de la cl, $x, S$ son el vector y funci\u00f3n, respectivamente,\n",
      "previamente definidos; y $t, k$ son valores que podemos variar a nuestro antojo. Ejemplo: Probemos la combinaci\u00f3n lineal que indica el libro insertando"
     ]
    },
    {
     "cell_type": "code",
     "collapsed": false,
     "input": [
      "inc_c(.5, .4, -.2, x, .5, 1, S)"
     ],
     "language": "python",
     "metadata": {},
     "outputs": []
    },
    {
     "cell_type": "code",
     "collapsed": false,
     "input": [],
     "language": "python",
     "metadata": {},
     "outputs": []
    }
   ],
   "metadata": {}
  }
 ]
}